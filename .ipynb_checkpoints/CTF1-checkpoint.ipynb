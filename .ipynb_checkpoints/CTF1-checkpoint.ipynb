{
 "cells": [
  {
   "cell_type": "markdown",
   "id": "c67a8ed8-3be5-4b50-b80c-c57b383d400e",
   "metadata": {},
   "source": [
    "CTF 1: Assessment Methodologies: Information Gathering"
   ]
  },
  {
   "cell_type": "markdown",
   "id": "c2430449-b35f-4eee-98d4-1dcb4c60fd93",
   "metadata": {},
   "source": [
    "# Background and introduction to the task"
   ]
  },
  {
   "cell_type": "code",
   "execution_count": 103,
   "id": "b1c1bf7a-2a78-469c-a579-95fc36787abb",
   "metadata": {},
   "outputs": [
    {
     "ename": "FileNotFoundError",
     "evalue": "[Errno 2] No such file or directory: 'Images'",
     "output_type": "error",
     "traceback": [
      "\u001b[0;31m---------------------------------------------------------------------------\u001b[0m",
      "\u001b[0;31mFileNotFoundError\u001b[0m                         Traceback (most recent call last)",
      "Cell \u001b[0;32mIn[103], line 2\u001b[0m\n\u001b[1;32m      1\u001b[0m \u001b[38;5;28;01mimport\u001b[39;00m \u001b[38;5;21;01mos\u001b[39;00m\n\u001b[0;32m----> 2\u001b[0m \u001b[43mos\u001b[49m\u001b[38;5;241;43m.\u001b[39;49m\u001b[43mlistdir\u001b[49m\u001b[43m(\u001b[49m\u001b[38;5;124;43m'\u001b[39;49m\u001b[38;5;124;43mImages\u001b[39;49m\u001b[38;5;124;43m'\u001b[39;49m\u001b[43m)\u001b[49m\n",
      "\u001b[0;31mFileNotFoundError\u001b[0m: [Errno 2] No such file or directory: 'Images'"
     ]
    }
   ],
   "source": [
    "import os\n",
    "os.listdir('Images')"
   ]
  },
  {
   "cell_type": "code",
   "execution_count": null,
   "id": "cf1d55cd-77c0-4baa-b9d7-ebd17b42340f",
   "metadata": {},
   "outputs": [],
   "source": [
    "from IPython.display import Image, display\n",
    "\n",
    "display(Image(filename='Images/flag1.png'))\n"
   ]
  },
  {
   "cell_type": "markdown",
   "id": "b2d5f8af-470b-42a3-952b-e3b0b5508e82",
   "metadata": {},
   "source": [
    "test2.png\n"
   ]
  },
  {
   "cell_type": "code",
   "execution_count": null,
   "id": "5a76d9a1-4dcb-40ad-8f5a-a50384846ea8",
   "metadata": {},
   "outputs": [],
   "source": []
  },
  {
   "cell_type": "code",
   "execution_count": null,
   "id": "066170bd-3bda-4363-be86-11f0b6ff8b81",
   "metadata": {},
   "outputs": [],
   "source": [
    "# Image of all flag descriptions"
   ]
  },
  {
   "cell_type": "markdown",
   "id": "6b06ba13-7383-4952-bb33-6b6c55f8a746",
   "metadata": {},
   "source": [
    "# Set up\n",
    "\n",
    "Once in the lab environment I opened up the terminal and searched the target website via the web browser.  Nothing out of the ordinary to begin with as a simple web page was displayed.  "
   ]
  },
  {
   "cell_type": "markdown",
   "id": "1eba9cc4-6db4-4907-b7a4-259f8a14d0e1",
   "metadata": {},
   "source": [
    "# Flag 1"
   ]
  },
  {
   "cell_type": "code",
   "execution_count": null,
   "id": "757e98e8-09c0-4e27-94cd-fb01a4919acf",
   "metadata": {},
   "outputs": [],
   "source": [
    "# insert image"
   ]
  },
  {
   "cell_type": "markdown",
   "id": "f4dc6e72-ab15-4111-9519-82be48c1ab8b",
   "metadata": {},
   "source": [
    "Based on the training material covered so far I remebered learning about the robots.txt file.  \n",
    "\n",
    "The purpose of a robots.txt file is used to tell web crawlers which of its pages can be indexed and therefore displayed on web search engines and which files and to not be included.  It is worth noting that it is not mandatory or to be used in any way as a security tool, it is simply to provide guidance to 'well-behaved' crawlers.\n",
    "\n",
    "With this information in mind I added robots.txt to the given target website of target.ine.local to form target.ine.local/robots.txt and input this into a browser to see what I could find. "
   ]
  },
  {
   "cell_type": "code",
   "execution_count": null,
   "id": "2f85c8d2-e951-4321-a6c4-4b8254c84b8e",
   "metadata": {},
   "outputs": [],
   "source": [
    "# flag1_found image"
   ]
  },
  {
   "cell_type": "markdown",
   "id": "3e23fab9-59ff-4b4f-b1b0-5099d96aca1e",
   "metadata": {},
   "source": [
    "And there we go. I found my very first flag!"
   ]
  },
  {
   "cell_type": "code",
   "execution_count": null,
   "id": "fa989ab4-4866-49b9-89e1-5b87a6df9ae1",
   "metadata": {},
   "outputs": [],
   "source": [
    "# Flag 1 completed image"
   ]
  },
  {
   "cell_type": "markdown",
   "id": "e199e4d1-6f97-4948-b369-4af712efdc6b",
   "metadata": {},
   "source": [
    "# Flag 2"
   ]
  },
  {
   "cell_type": "code",
   "execution_count": null,
   "id": "98866bb2-c540-4a2c-84aa-728880ea2436",
   "metadata": {},
   "outputs": [],
   "source": [
    "# flag 2 image description"
   ]
  },
  {
   "cell_type": "markdown",
   "id": "3b92afea-7c4b-4210-a5b2-68d4f8024027",
   "metadata": {},
   "source": [
    "Based on this description I had to think about the different tools covered in earlier sections of the training and what they were used for. One of these tools was a Nmap.  Nmap (Network Mapper) is an open-source tool primarily used for network discovery, port scanning, operating system detection and service and version detection as well as other many other uses.  \n",
    "\n",
    "Network Discovery: Nmap can scan a network to discover devices (hosts) that are connected. It can detect whether a host is up (online) and what services are running on it.\n",
    "\n",
    "Port Scanning: Nmap is often used to scan open ports on a device or server to determine which services are available. This can help identify potential entry points for attackers or assess the configuration of a networked system.\n",
    "\n",
    "Operating System Detection: Nmap can attempt to determine the operating system (OS) running on a host by analyzing the way it responds to different network probes. This helps in identifying the type of devices in a network.\n",
    "\n",
    "Service and Version Detection: Nmap can identify not only which services are running on open ports (e.g., HTTP, FTP, SSH) but also their versions. This is useful for detecting outdated services or versions with known vulnerabilities.\n",
    "\n",
    "As part of the hint of finding flag 2 is to find details about the server and its version I can use Nmap to do this.\n",
    "\n",
    "In the terminal I used the line \"nmap target.ine.local -sC -sV\"\n",
    "This command will output what ports are open, what services are running on them, and some info about those services.\n",
    "The flag -sC tells Nmap to run the default set of scripts from the Nmap Scripting Engine (NSE). \n",
    "The flag -sV enables version detection. It will try to determine the version of the services running on open ports."
   ]
  },
  {
   "cell_type": "code",
   "execution_count": null,
   "id": "e7ff3dad-a421-4abe-93a4-4aa2efda212d",
   "metadata": {},
   "outputs": [],
   "source": [
    "# flag 2 found image"
   ]
  },
  {
   "cell_type": "code",
   "execution_count": null,
   "id": "33d5e864-176a-4176-9b7b-77ea0cf5f126",
   "metadata": {},
   "outputs": [],
   "source": [
    "# 2/5 flags captured image"
   ]
  },
  {
   "cell_type": "code",
   "execution_count": null,
   "id": "1459abe0-4152-4944-a747-0d1eb85de455",
   "metadata": {},
   "outputs": [],
   "source": [
    "# flag 3"
   ]
  },
  {
   "cell_type": "code",
   "execution_count": null,
   "id": "15938dc5-16c1-4f85-aec5-9dc5a57f3652",
   "metadata": {},
   "outputs": [],
   "source": [
    "# flag 3 description image"
   ]
  },
  {
   "cell_type": "markdown",
   "id": "f1711575-e6bf-413b-9890-9704ba7c34ad",
   "metadata": {},
   "source": [
    "In the previous training we used dirb to identifying directories.  \n",
    "\n",
    "dirb is a web content scanner commonly used to discover hidden directories and files on a web server.\n",
    "\n",
    "DIRB works by using dictionary-based brute force — it takes a list of possible directory and file names (wordlist) and makes HTTP requests to see which of them actually exist on the server.  DIRB comes with a set of preconfigured attack wordlists for easy usage but custom wordlists can also be used. \n",
    "\n",
    "Common flags:\n",
    "-w: Use a custom wordlist\n",
    "-o: Output results to a file\n",
    "-r: Don’t follow redirects\n",
    "-S: Silent mode — hides status messages\n",
    "-X: Try specific file extensions\n"
   ]
  },
  {
   "cell_type": "markdown",
   "id": "4a21fbb9-f09c-47fb-a5cf-d87e9e7ce273",
   "metadata": {},
   "source": [
    "If not specificied dirb will use the file common.txt as its wordlist.  This is one of the many built in common word lists."
   ]
  },
  {
   "cell_type": "code",
   "execution_count": null,
   "id": "239751f4-7a88-4660-a2f7-6d0a22f2a321",
   "metadata": {},
   "outputs": [],
   "source": [
    "# dirb automatic wordlist"
   ]
  },
  {
   "cell_type": "code",
   "execution_count": null,
   "id": "5b551a09-bb06-4de8-84e2-e9b5b5a2db8a",
   "metadata": {},
   "outputs": [],
   "source": [
    "# dirb output flag 3 image"
   ]
  },
  {
   "cell_type": "markdown",
   "id": "42fe4401-11ca-4ff0-b7d8-a936c2b5cf31",
   "metadata": {},
   "source": [
    "I now had a list of previously unknown directories and an insight into the website file structure.\n",
    "\n",
    "I clicked on all of the different file directories to see what I could find.  The last directory I clicked on was the /wp-contents/uploads folder."
   ]
  },
  {
   "cell_type": "code",
   "execution_count": null,
   "id": "b83c738b-813b-46d0-b757-0d5e87929d83",
   "metadata": {},
   "outputs": [],
   "source": [
    "# flag 3 directory found image"
   ]
  },
  {
   "cell_type": "code",
   "execution_count": null,
   "id": "086626c8-fc78-4d55-9b37-19cfe74e5697",
   "metadata": {},
   "outputs": [],
   "source": [
    "# flag 3 file opened image - flag 3 found"
   ]
  },
  {
   "cell_type": "code",
   "execution_count": null,
   "id": "de3654a9-af0b-4f6f-b3b7-c9cb7bd0e095",
   "metadata": {},
   "outputs": [],
   "source": [
    "# 3 out of 5 flags completed image"
   ]
  },
  {
   "cell_type": "code",
   "execution_count": null,
   "id": "9a1bc055-86f8-4f6d-824d-3dbb62545035",
   "metadata": {},
   "outputs": [],
   "source": [
    "# flag 4 description"
   ]
  },
  {
   "cell_type": "markdown",
   "id": "c8904701-e569-41a0-b4f8-6308ed5d2ada",
   "metadata": {},
   "source": [
    "As we are now searching for a backup file I can do the same search as above to search all of the directories but I can use the -X flag to search specifically for files with the extension of .bak. This is because the .bak file extension is commonly used to indicate a backup file."
   ]
  },
  {
   "cell_type": "code",
   "execution_count": null,
   "id": "74cf0310-0e60-468d-9240-96e6f72dd985",
   "metadata": {},
   "outputs": [],
   "source": [
    "# bak file found image"
   ]
  },
  {
   "cell_type": "markdown",
   "id": "0ebc5707-cf39-419e-9f80-2adb5f992181",
   "metadata": {},
   "source": [
    "This search has returned that there is one file that has been found with the extension .bak.  This is the file: http://target.ine.local/wp-config.bak."
   ]
  },
  {
   "cell_type": "markdown",
   "id": "cfd221e5-f806-4b3f-8c4b-10a8c03a1883",
   "metadata": {},
   "source": [
    "CURL - Fetches a page\n",
    "GREP - Filters for target content\n",
    "\n",
    "Curl and grep can be combined using a pipe '|' to send the output of curl into grep.\n",
    "\n",
    "The line 'curl http://target.ine.local/wp-config.bak | grep \"FLAG\"' will firstly download the HTML from the target page and then search it for any lines that contain the word “FLAG”. "
   ]
  },
  {
   "cell_type": "code",
   "execution_count": null,
   "id": "9f7bcfe0-c23f-4295-91a1-9668eacdc029",
   "metadata": {},
   "outputs": [],
   "source": [
    "# image of flag4 found following grep."
   ]
  },
  {
   "cell_type": "code",
   "execution_count": null,
   "id": "efded5ac-35bb-4d4b-8a00-fa631df079ee",
   "metadata": {},
   "outputs": [],
   "source": [
    "# image of 4 out of 5 flags complete."
   ]
  },
  {
   "cell_type": "code",
   "execution_count": null,
   "id": "0003a84c-561b-4a8c-97c3-f16a0703bb11",
   "metadata": {},
   "outputs": [],
   "source": [
    "# Flag 5"
   ]
  },
  {
   "cell_type": "code",
   "execution_count": null,
   "id": "6bb19289-0487-4f24-a6be-f165e0b4308e",
   "metadata": {},
   "outputs": [],
   "source": [
    "# Image of flag 5 description"
   ]
  },
  {
   "cell_type": "markdown",
   "id": "0026a14e-377e-41b3-9548-2dd174364a13",
   "metadata": {},
   "source": [
    "As it is suggested to mirror the website to find this flag we can use httrack.\n",
    "\n",
    "httrack is a website copier — a command-line tool (and GUI on some systems) that allows you to download an entire website to your local machine for offline browsing.\n",
    "\n",
    "-O\tOutput directory\n",
    "--mirror\tMirror site exactly as it is\n",
    "--depth=N\tLimit how deep it follows links\n",
    "--robots=0\tIgnore robots.txt restrictions\n",
    "--sockets=N\tSet number of simultaneous connections\n",
    "--get\tOnly download files directly, don’t follow links\n",
    "\n",
    "Once the website content is downloaded locally it makes it easy to search locally using tools like grep and string as well as find hidden content like: /robots.txt, /admin/ or /backup.zip files."
   ]
  },
  {
   "cell_type": "code",
   "execution_count": null,
   "id": "a7b6da03-7d4e-4c0b-8314-9750e4336fba",
   "metadata": {},
   "outputs": [],
   "source": [
    "# image httrack website download."
   ]
  },
  {
   "cell_type": "markdown",
   "id": "f7d547ca-cba7-49cf-9957-8a1605836367",
   "metadata": {},
   "source": [
    "I used the -O flag to save the files into a folder titled 'target_website_mirror'.\n",
    "\n",
    "This folder now contains all of the webite files downloaded from httracker."
   ]
  },
  {
   "cell_type": "code",
   "execution_count": null,
   "id": "f47537b6-d79f-447e-909c-4f8175c954b2",
   "metadata": {},
   "outputs": [],
   "source": [
    "# image of folder structure"
   ]
  },
  {
   "cell_type": "markdown",
   "id": "e9db5ff0-67d4-4470-868c-e24528fee02e",
   "metadata": {},
   "source": [
    "I searched through all of the accessable files paying particular attention to files I was previously unable to see. Using grep again to target my search to finding flag 5."
   ]
  },
  {
   "cell_type": "code",
   "execution_count": null,
   "id": "b1bdbcce-ff9e-446a-a028-f767a618f211",
   "metadata": {},
   "outputs": [],
   "source": [
    "# Image of grep return showing flag5 found"
   ]
  },
  {
   "cell_type": "code",
   "execution_count": null,
   "id": "5ce31d5f-e9f8-4bbd-b770-047b3777cf3d",
   "metadata": {},
   "outputs": [],
   "source": [
    "I copied over the final flag to the main CTP page to confirm I have found the final flag."
   ]
  },
  {
   "cell_type": "code",
   "execution_count": null,
   "id": "51ae13ad-f3b3-42b5-a6cb-d5282e72212c",
   "metadata": {},
   "outputs": [],
   "source": [
    "# image 5 out of 5."
   ]
  },
  {
   "cell_type": "markdown",
   "id": "959c3d09-b3e1-4ce1-9cd6-c2a094b97ab5",
   "metadata": {},
   "source": [
    "Summary of tools used\n",
    "\n"
   ]
  },
  {
   "cell_type": "code",
   "execution_count": null,
   "id": "cd1ea5fc-3ab0-46e5-9db7-bdafb666e135",
   "metadata": {},
   "outputs": [],
   "source": [
    "Summary of lessons learned"
   ]
  },
  {
   "cell_type": "markdown",
   "id": "63f0e4ef-09c0-42f9-a4d0-716453c58f4a",
   "metadata": {},
   "source": [
    "Conclusion\n",
    "\n"
   ]
  }
 ],
 "metadata": {
  "kernelspec": {
   "display_name": "Python 3 (ipykernel)",
   "language": "python",
   "name": "python3"
  },
  "language_info": {
   "codemirror_mode": {
    "name": "ipython",
    "version": 3
   },
   "file_extension": ".py",
   "mimetype": "text/x-python",
   "name": "python",
   "nbconvert_exporter": "python",
   "pygments_lexer": "ipython3",
   "version": "3.12.1"
  }
 },
 "nbformat": 4,
 "nbformat_minor": 5
}
